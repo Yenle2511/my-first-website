{
  "nbformat": 4,
  "nbformat_minor": 0,
  "metadata": {
    "colab": {
      "provenance": [],
      "toc_visible": true
    },
    "kernelspec": {
      "name": "python3",
      "display_name": "Python 3"
    },
    "language_info": {
      "name": "python"
    }
  },
  "cells": [
    {
      "cell_type": "markdown",
      "source": [
        "<center>\n",
        "\n",
        "<img src=\"https://i.imgur.com/Av86m7R.png\" alt=\"logo\" width=\"100%\" height=\"270\">\n",
        "\n",
        "&copy; 2023 CoTAI. Internal Use Only.\n",
        "\n",
        "<h1><b>Session 8 - File, 2D List</h1>\n",
        "\n",
        "</center>"
      ],
      "metadata": {
        "id": "89jPY8j-cRNl"
      }
    },
    {
      "cell_type": "markdown",
      "source": [
        "#**Problem 1**"
      ],
      "metadata": {
        "id": "oRsedoOJcU6z"
      }
    },
    {
      "cell_type": "markdown",
      "source": [
        "Nhập ma trận số nguyên `A` gồm n dòng từ file `input.txt`. In ra `n` dòng, dòng thứ `i` bao gồm: giá trị nhỏ nhất, giá trị lớn nhất, trung bình của dòng thứ `i` của ma trận A (làm tròn 2 số lẻ thập phân)\n",
        "\n",
        "**Test case 1**\n",
        "- Input\n",
        "```\n",
        "1 2 3\n",
        "0 2 7\n",
        "```\n",
        "- Output\n",
        "```\n",
        "1 3 2.0\n",
        "0 7 3.0\n",
        "```\n",
        "\n",
        "**Test case 2**\n",
        "- Input\n",
        "```\n",
        "1 -2 0 1\n",
        "0 -1 2 0\n",
        "2 -3 0 1\n",
        "```\n",
        "- Output\n",
        "```\n",
        " -2 1 0.0\n",
        " -1 2 0.25\n",
        " -3 2 0.0\n",
        "```"
      ],
      "metadata": {
        "id": "vTu1ueYHccDM"
      }
    },
    {
      "cell_type": "code",
      "execution_count": null,
      "metadata": {
        "id": "frBsr_V3cGVu",
        "colab": {
          "base_uri": "https://localhost:8080/",
          "height": 245
        },
        "outputId": "230bb6b8-2874-4d27-ef9a-c17540e1e6a0"
      },
      "outputs": [
        {
          "output_type": "error",
          "ename": "NameError",
          "evalue": "ignored",
          "traceback": [
            "\u001b[0;31m---------------------------------------------------------------------------\u001b[0m",
            "\u001b[0;31mNameError\u001b[0m                                 Traceback (most recent call last)",
            "\u001b[0;32m<ipython-input-9-9c6cfffc5b47>\u001b[0m in \u001b[0;36m<cell line: 2>\u001b[0;34m()\u001b[0m\n\u001b[1;32m      1\u001b[0m \u001b[0mA\u001b[0m \u001b[0;34m=\u001b[0m \u001b[0;34m[\u001b[0m\u001b[0;34m]\u001b[0m\u001b[0;34m\u001b[0m\u001b[0;34m\u001b[0m\u001b[0m\n\u001b[0;32m----> 2\u001b[0;31m \u001b[0;32mfor\u001b[0m \u001b[0mline\u001b[0m \u001b[0;32min\u001b[0m \u001b[0mf\u001b[0m\u001b[0;34m.\u001b[0m\u001b[0mreadlines\u001b[0m\u001b[0;34m(\u001b[0m\u001b[0;34m)\u001b[0m\u001b[0;34m:\u001b[0m\u001b[0;34m\u001b[0m\u001b[0;34m\u001b[0m\u001b[0m\n\u001b[0m\u001b[1;32m      3\u001b[0m   \u001b[0mrow\u001b[0m \u001b[0;34m=\u001b[0m \u001b[0mlist\u001b[0m\u001b[0;34m(\u001b[0m\u001b[0mmap\u001b[0m\u001b[0;34m(\u001b[0m\u001b[0mint\u001b[0m\u001b[0;34m,\u001b[0m\u001b[0mline\u001b[0m\u001b[0;34m.\u001b[0m\u001b[0msplit\u001b[0m\u001b[0;34m(\u001b[0m\u001b[0;34m)\u001b[0m\u001b[0;34m)\u001b[0m\u001b[0;34m)\u001b[0m\u001b[0;34m\u001b[0m\u001b[0;34m\u001b[0m\u001b[0m\n\u001b[1;32m      4\u001b[0m   \u001b[0mA\u001b[0m\u001b[0;34m.\u001b[0m\u001b[0mappend\u001b[0m\u001b[0;34m(\u001b[0m\u001b[0mrow\u001b[0m\u001b[0;34m)\u001b[0m\u001b[0;34m\u001b[0m\u001b[0;34m\u001b[0m\u001b[0m\n\u001b[1;32m      5\u001b[0m   \u001b[0;32mfor\u001b[0m \u001b[0mrow\u001b[0m \u001b[0;32min\u001b[0m \u001b[0mA\u001b[0m\u001b[0;34m:\u001b[0m\u001b[0;34m\u001b[0m\u001b[0;34m\u001b[0m\u001b[0m\n",
            "\u001b[0;31mNameError\u001b[0m: name 'f' is not defined"
          ]
        }
      ],
      "source": [
        "f = open('input.txt')\n",
        "A = [list(map(int,line.split())) for line in f.readlines()]\n",
        "for line in f.readlines():\n",
        "  row = list(map(int,line.split()))\n",
        "  A.append(row)\n",
        "  for row in A:\n",
        "   gtnhonhat = min(row)\n",
        "   gtlonnhat = max(row)\n",
        "   tb = sum(row)/len(row)\n",
        "print(A)\n",
        "\n",
        "\n",
        "\n"
      ]
    },
    {
      "cell_type": "markdown",
      "source": [
        "#**Problem 2**"
      ],
      "metadata": {
        "id": "Abnr5DH3Pqu1"
      }
    },
    {
      "cell_type": "markdown",
      "source": [
        "Cho ma trận số nguyên `A` lưu trong file `input.txt`. In ra trên 1 dòng số lượng số âm và số dương của ma trận `A`\n",
        "\n",
        "**Test case 1**\n",
        "- Input\n",
        "```\n",
        "1 -2 3\n",
        "0 2 -7\n",
        "```\n",
        "- Output\n",
        "```\n",
        "2 3\n",
        "```\n",
        "\n",
        "**Test case 2**\n",
        "- Input\n",
        "```\n",
        "1 -2 0 1\n",
        "0 -1 2 0\n",
        "2 -3 0 1\n",
        "```\n",
        "- Output\n",
        "```\n",
        "3 5\n",
        "```"
      ],
      "metadata": {
        "id": "F7eUAKzemcmY"
      }
    },
    {
      "cell_type": "code",
      "source": [
        "f = open('input.txt')\n",
        "A = [list(map(int,line.split())) for line in f.readlines()]\n",
        "dem_so= []\n",
        "count1 = 0\n",
        "count2 = 0\n",
        "for row in A:\n",
        "  for so in row:\n",
        "    if so < 0:\n",
        "      count1 += 1\n",
        "      dem_so.append(count1)\n",
        "    elif so > 0:\n",
        "      count2 += 1\n",
        "      dem_so.append(count2)\n",
        "      print(dem_so)\n",
        "\n"
      ],
      "metadata": {
        "id": "tqScjv8VfAXq",
        "colab": {
          "base_uri": "https://localhost:8080/",
          "height": 245
        },
        "outputId": "1c79486e-34ea-4d4c-d771-299b12c3a2b5"
      },
      "execution_count": null,
      "outputs": [
        {
          "output_type": "error",
          "ename": "FileNotFoundError",
          "evalue": "ignored",
          "traceback": [
            "\u001b[0;31m---------------------------------------------------------------------------\u001b[0m",
            "\u001b[0;31mFileNotFoundError\u001b[0m                         Traceback (most recent call last)",
            "\u001b[0;32m<ipython-input-12-f63190bda653>\u001b[0m in \u001b[0;36m<cell line: 1>\u001b[0;34m()\u001b[0m\n\u001b[0;32m----> 1\u001b[0;31m \u001b[0mf\u001b[0m \u001b[0;34m=\u001b[0m \u001b[0mopen\u001b[0m\u001b[0;34m(\u001b[0m\u001b[0;34m'input.txt'\u001b[0m\u001b[0;34m)\u001b[0m\u001b[0;34m\u001b[0m\u001b[0;34m\u001b[0m\u001b[0m\n\u001b[0m\u001b[1;32m      2\u001b[0m \u001b[0mA\u001b[0m \u001b[0;34m=\u001b[0m \u001b[0;34m[\u001b[0m\u001b[0mlist\u001b[0m\u001b[0;34m(\u001b[0m\u001b[0mmap\u001b[0m\u001b[0;34m(\u001b[0m\u001b[0mint\u001b[0m\u001b[0;34m,\u001b[0m\u001b[0mline\u001b[0m\u001b[0;34m.\u001b[0m\u001b[0msplit\u001b[0m\u001b[0;34m(\u001b[0m\u001b[0;34m)\u001b[0m\u001b[0;34m)\u001b[0m\u001b[0;34m)\u001b[0m \u001b[0;32mfor\u001b[0m \u001b[0mline\u001b[0m \u001b[0;32min\u001b[0m \u001b[0mf\u001b[0m\u001b[0;34m.\u001b[0m\u001b[0mreadlines\u001b[0m\u001b[0;34m(\u001b[0m\u001b[0;34m)\u001b[0m\u001b[0;34m]\u001b[0m\u001b[0;34m\u001b[0m\u001b[0;34m\u001b[0m\u001b[0m\n\u001b[1;32m      3\u001b[0m \u001b[0mdem_so\u001b[0m\u001b[0;34m=\u001b[0m \u001b[0;34m[\u001b[0m\u001b[0;34m]\u001b[0m\u001b[0;34m\u001b[0m\u001b[0;34m\u001b[0m\u001b[0m\n\u001b[1;32m      4\u001b[0m \u001b[0mcount1\u001b[0m \u001b[0;34m=\u001b[0m \u001b[0;36m0\u001b[0m\u001b[0;34m\u001b[0m\u001b[0;34m\u001b[0m\u001b[0m\n\u001b[1;32m      5\u001b[0m \u001b[0mcount2\u001b[0m \u001b[0;34m=\u001b[0m \u001b[0;36m0\u001b[0m\u001b[0;34m\u001b[0m\u001b[0;34m\u001b[0m\u001b[0m\n",
            "\u001b[0;31mFileNotFoundError\u001b[0m: [Errno 2] No such file or directory: 'input.txt'"
          ]
        }
      ]
    },
    {
      "cell_type": "markdown",
      "source": [
        "#**Problem 3**"
      ],
      "metadata": {
        "id": "4E-tXXldmWn6"
      }
    },
    {
      "cell_type": "markdown",
      "source": [
        "Cho 2 số nguyên `i,j` và ma trận số nguyên `A` lưu trong file `input.txt`. Đổi chỗ 2 dòng `i,j` của ma trận `A` rồi in ra `A`\n",
        "\n",
        "**Test case 1**\n",
        "- Input\n",
        "```\n",
        "0 2\n",
        "1 -2 0 1\n",
        "0 -1 2 0\n",
        "2 -3 0 1\n",
        "```\n",
        "- Output\n",
        "```\n",
        "2 -3 0 1\n",
        "0 -1 2 0\n",
        "1 -2 0 1\n",
        "```\n",
        "\n",
        "**Test case 2**\n",
        "- Input\n",
        "```\n",
        "1 2\n",
        "0 1 2 -1\n",
        "1 0 2 0\n",
        "2 1 0 -2\n",
        "1 2 1 -1\n",
        "```\n",
        "- Output\n",
        "```\n",
        "0 1 2 -1\n",
        "2 1 0 -2\n",
        "1 0 2 0\n",
        "1 2 1 -1\n",
        "```"
      ],
      "metadata": {
        "id": "jfdruWItc2wV"
      }
    },
    {
      "cell_type": "code",
      "source": [
        "f = open('input.txt')\n",
        "A = [list(map(int,line.split())) for line in f.readlines()]\n",
        "i,j = map(int(),f.readline().split())\n",
        "temp = A[i]\n",
        "A[i] = A[j]\n",
        "A[j] = temp\n",
        "print(A)\n",
        "\n"
      ],
      "metadata": {
        "id": "Ikrx4zfXmfKL",
        "colab": {
          "base_uri": "https://localhost:8080/",
          "height": 210
        },
        "outputId": "ba5fbbd7-8dd4-45a2-8f77-54e9fb19ee79"
      },
      "execution_count": null,
      "outputs": [
        {
          "output_type": "error",
          "ename": "FileNotFoundError",
          "evalue": "ignored",
          "traceback": [
            "\u001b[0;31m---------------------------------------------------------------------------\u001b[0m",
            "\u001b[0;31mFileNotFoundError\u001b[0m                         Traceback (most recent call last)",
            "\u001b[0;32m<ipython-input-11-d26c43ed0eb9>\u001b[0m in \u001b[0;36m<cell line: 1>\u001b[0;34m()\u001b[0m\n\u001b[0;32m----> 1\u001b[0;31m \u001b[0mf\u001b[0m \u001b[0;34m=\u001b[0m \u001b[0mopen\u001b[0m\u001b[0;34m(\u001b[0m\u001b[0;34m'input.txt'\u001b[0m\u001b[0;34m)\u001b[0m\u001b[0;34m\u001b[0m\u001b[0;34m\u001b[0m\u001b[0m\n\u001b[0m\u001b[1;32m      2\u001b[0m \u001b[0mA\u001b[0m \u001b[0;34m=\u001b[0m \u001b[0;34m[\u001b[0m\u001b[0;34m]\u001b[0m\u001b[0;34m\u001b[0m\u001b[0;34m\u001b[0m\u001b[0m\n\u001b[1;32m      3\u001b[0m \u001b[0mi\u001b[0m\u001b[0;34m,\u001b[0m\u001b[0mj\u001b[0m \u001b[0;34m=\u001b[0m \u001b[0mmap\u001b[0m\u001b[0;34m(\u001b[0m\u001b[0mint\u001b[0m\u001b[0;34m(\u001b[0m\u001b[0;34m)\u001b[0m\u001b[0;34m,\u001b[0m\u001b[0mf\u001b[0m\u001b[0;34m.\u001b[0m\u001b[0mreadline\u001b[0m\u001b[0;34m(\u001b[0m\u001b[0;34m)\u001b[0m\u001b[0;34m.\u001b[0m\u001b[0msplit\u001b[0m\u001b[0;34m(\u001b[0m\u001b[0;34m)\u001b[0m\u001b[0;34m)\u001b[0m\u001b[0;34m\u001b[0m\u001b[0;34m\u001b[0m\u001b[0m\n",
            "\u001b[0;31mFileNotFoundError\u001b[0m: [Errno 2] No such file or directory: 'input.txt'"
          ]
        }
      ]
    },
    {
      "cell_type": "markdown",
      "source": [
        "#**Problem 4**"
      ],
      "metadata": {
        "id": "FmqBtsAcRCBv"
      }
    },
    {
      "cell_type": "markdown",
      "source": [
        "Cho 2 số nguyên `i,j` và ma trận số nguyên `A` lưu trong file `input.txt`. Đổi chỗ 2 cột `i,j` của ma trận `A` rồi in ra `A`\n",
        "\n",
        "**Test case 1**\n",
        "- Input\n",
        "```\n",
        "0 2\n",
        "1 -2 0 1\n",
        "0 -1 2 0\n",
        "2 -3 0 1\n",
        "```\n",
        "- Output\n",
        "```\n",
        "0 -2 1 1\n",
        "2 -1 0 0\n",
        "0 -3 2 1\n",
        "```\n",
        "\n",
        "**Test case 2**\n",
        "- Input\n",
        "```\n",
        "1 3\n",
        "0 1 2 -1\n",
        "1 0 2 0\n",
        "2 1 0 -2\n",
        "1 2 1 -1\n",
        "```\n",
        "- Output\n",
        "```\n",
        "0 -1 2 1\n",
        "1 0 2 0\n",
        "2 -2 0 1\n",
        "1 -1 1 2\n",
        "```"
      ],
      "metadata": {
        "id": "bvxmLsD3RBuG"
      }
    },
    {
      "cell_type": "code",
      "source": [
        "f = open('input.txt')\n",
        "A = [list(map(int,line.split())) for line in f.readlines()]\n",
        "i,j = map(int(),f.readline().split())\n",
        "A[i] = A[j]\n",
        "A[j] = A[i]\n",
        "print(A)\n",
        "\n",
        "\n",
        "\n"
      ],
      "metadata": {
        "id": "RCvUwRo-RCpx"
      },
      "execution_count": null,
      "outputs": []
    },
    {
      "cell_type": "markdown",
      "source": [
        "#**Problem 5**"
      ],
      "metadata": {
        "id": "IW-0WODRpy7F"
      }
    },
    {
      "cell_type": "markdown",
      "source": [
        "Cho ma trận số nguyên `A` lưu trong file `input.txt`. Tạo ma trận `B` là ma trận `A` sau khi bỏ các dòng đầu tiên & cuối cùng, cột đầu tiên và cuối cùng (nói cách khác là bỏ đi 4 cạnh của ma trận `A`) rồi in ra `A`\n",
        "\n",
        "**Test case 1**\n",
        "- Input\n",
        "```\n",
        "0 1 2 -1\n",
        "1 0 2 0\n",
        "2 1 0 -2\n",
        "1 2 1 -1\n",
        "```\n",
        "- Output\n",
        "```\n",
        "0 2\n",
        "1 0\n",
        "```\n",
        "\n",
        "**Test case 2**\n",
        "- Input\n",
        "```\n",
        "1 -2 0 1\n",
        "0 -1 2 0\n",
        "2 -3 0 1\n",
        "```\n",
        "- Output\n",
        "```\n",
        " -1 2\n",
        "```\n",
        "\n",
        "**Test case 3**\n",
        "- Input\n",
        "```\n",
        "0 0 0\n",
        "0 1 0\n",
        "0 0 0\n",
        "```\n",
        "- Output\n",
        "```\n",
        "1\n",
        "```"
      ],
      "metadata": {
        "id": "BOPKqlAXp4u0"
      }
    },
    {
      "cell_type": "code",
      "source": [
        "f = open('input.txt')\n",
        "A = [list(map(int,line.split())) for line in f.readlines()]\n",
        "A = A[1:-2]\n",
        "return\n",
        "B = A[1:-2]\n",
        "print(B)\n",
        "\n"
      ],
      "metadata": {
        "id": "-l4B_ezIr2ss"
      },
      "execution_count": null,
      "outputs": []
    }
  ]
}